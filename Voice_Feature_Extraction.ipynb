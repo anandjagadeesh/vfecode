{
  "nbformat": 4,
  "nbformat_minor": 0,
  "metadata": {
    "colab": {
      "name": "Voice Feature Extraction.ipynb",
      "provenance": []
    },
    "kernelspec": {
      "name": "python3",
      "display_name": "Python 3"
    },
    "language_info": {
      "name": "python"
    }
  },
  "cells": [
    {
      "cell_type": "code",
      "source": [
        "!pip install python_speech_features"
      ],
      "metadata": {
        "colab": {
          "base_uri": "https://localhost:8080/"
        },
        "id": "n-syGAoLzSwz",
        "outputId": "d903013f-92ff-429f-e303-b56c29122e92"
      },
      "execution_count": null,
      "outputs": [
        {
          "output_type": "stream",
          "name": "stdout",
          "text": [
            "Requirement already satisfied: python_speech_features in /usr/local/lib/python3.7/dist-packages (0.6)\n"
          ]
        }
      ]
    },
    {
      "cell_type": "code",
      "execution_count": null,
      "metadata": {
        "id": "z_MDo0hpyt4n"
      },
      "outputs": [],
      "source": [
        "import numpy as np\n",
        "from sklearn import preprocessing\n",
        "import python_speech_features as mfcc\n",
        "\n",
        "def calculate_delta(array):\n",
        "    \"\"\"Calculate and returns the delta of given feature vector matrix\"\"\"\n",
        "\n",
        "    rows,cols = array.shape\n",
        "    deltas = np.zeros((rows,20))\n",
        "    N = 2\n",
        "    for i in range(rows):\n",
        "        index = []\n",
        "        j = 1\n",
        "        while j <= N:\n",
        "            if i-j < 0:\n",
        "              first =0\n",
        "            else:\n",
        "              first = i-j\n",
        "            if i+j > rows-1:\n",
        "                second = rows-1\n",
        "            else:\n",
        "                second = i+j \n",
        "            index.append((second,first))\n",
        "            j+=1\n",
        "        deltas[i] = ( array[index[0][0]]-array[index[0][1]] + (2 * (array[index[1][0]]-array[index[1][1]])) ) / 10\n",
        "    return deltas\n",
        "\n",
        "def extract_features(audio,rate):\n",
        "    \"\"\"extract 20 dim mfcc features from an audio, performs CMS and combines \n",
        "    delta to make it 40 dim feature vector\"\"\"    \n",
        "    \n",
        "    mfcc_feature = mfcc.mfcc(audio,rate, 0.025, 0.01,20,nfft = 1200, appendEnergy = True)    \n",
        "    mfcc_feature = preprocessing.scale(mfcc_feature)\n",
        "    delta = calculate_delta(mfcc_feature)\n",
        "    combined = np.hstack((mfcc_feature,delta)) \n",
        "    return combined"
      ]
    },
    {
      "cell_type": "code",
      "source": [
        "import os\n",
        "import pickle\n",
        "import numpy as np\n",
        "from scipy.io.wavfile import read\n",
        "from sklearn import mixture\n",
        "import warnings\n",
        "warnings.filterwarnings(\"ignore\")\n",
        "pathname=\"record/user2/\"\n",
        "arr = os.listdir(pathname)\n",
        "print(arr)\n",
        "\n",
        "# Extracting features for each speaker (5 files per speakers)\n",
        "features = np.asarray(())\n",
        "for path in arr:    \n",
        "    path = path.strip()   \n",
        "    print (path)\n",
        "    \n",
        "    # read the audio\n",
        "    sr,audio = read(pathname + path)\n",
        "    \n",
        "    # extract 40 dimensional MFCC & delta MFCC features\n",
        "    vector   = extract_features(audio,sr)\n",
        "    \n",
        "    if features.size == 0:\n",
        "        features = vector\n",
        "    else:\n",
        "        features = np.vstack((features, vector))\n",
        "    # when features of 5 files of speaker are concatenated, then do model training\n",
        "\t# -> if count == 5: --> edited below\n",
        " \n",
        "    gmm = mixture.GaussianMixture(n_components=16, random_state=0)\n",
        "    gmm.fit(features)\n",
        "    \n",
        "    # dumping the trained gaussian model\n",
        "    picklefile =\"user2.gmm\"\n",
        "    pickle.dump(gmm,open(picklefile,'wb'))\n",
        "    print ('+ modeling completed for speaker:',picklefile,\" with data point = \",features.shape )"
      ],
      "metadata": {
        "id": "QGO6cE-fy0fU",
        "colab": {
          "base_uri": "https://localhost:8080/"
        },
        "outputId": "5a87f4ee-03de-482d-c0df-9a156542474e"
      },
      "execution_count": null,
      "outputs": [
        {
          "output_type": "stream",
          "name": "stdout",
          "text": [
            "['user26.wav', 'user23.wav', 'user22.wav', 'user214.wav', 'user210.wav', 'user21.wav', 'user29.wav', 'user25.wav', 'user212.wav', 'user213.wav', 'user211.wav', 'user28.wav', 'user215.wav', 'user24.wav', 'user27.wav']\n",
            "user26.wav\n",
            "+ modeling completed for speaker: user2.gmm  with data point =  (599, 40)\n",
            "user23.wav\n",
            "+ modeling completed for speaker: user2.gmm  with data point =  (1198, 40)\n",
            "user22.wav\n",
            "+ modeling completed for speaker: user2.gmm  with data point =  (1797, 40)\n",
            "user214.wav\n",
            "+ modeling completed for speaker: user2.gmm  with data point =  (2396, 40)\n",
            "user210.wav\n",
            "+ modeling completed for speaker: user2.gmm  with data point =  (2995, 40)\n",
            "user21.wav\n",
            "+ modeling completed for speaker: user2.gmm  with data point =  (3594, 40)\n",
            "user29.wav\n",
            "+ modeling completed for speaker: user2.gmm  with data point =  (4193, 40)\n",
            "user25.wav\n",
            "+ modeling completed for speaker: user2.gmm  with data point =  (4792, 40)\n",
            "user212.wav\n",
            "+ modeling completed for speaker: user2.gmm  with data point =  (5391, 40)\n",
            "user213.wav\n",
            "+ modeling completed for speaker: user2.gmm  with data point =  (5990, 40)\n",
            "user211.wav\n",
            "+ modeling completed for speaker: user2.gmm  with data point =  (6589, 40)\n",
            "user28.wav\n",
            "+ modeling completed for speaker: user2.gmm  with data point =  (7188, 40)\n",
            "user215.wav\n",
            "+ modeling completed for speaker: user2.gmm  with data point =  (7787, 40)\n",
            "user24.wav\n",
            "+ modeling completed for speaker: user2.gmm  with data point =  (8386, 40)\n",
            "user27.wav\n",
            "+ modeling completed for speaker: user2.gmm  with data point =  (8985, 40)\n"
          ]
        }
      ]
    },
    {
      "cell_type": "code",
      "source": [
        "import os\n",
        "import pickle\n",
        "import numpy as np\n",
        "from scipy.io.wavfile import read\n",
        "import warnings\n",
        "warnings.filterwarnings(\"ignore\")\n",
        "import time\n",
        "\n",
        "gmm_files = [\"user2.gmm\"]\n",
        "\n",
        "#Load the Gaussian gender Models\n",
        "models    = [pickle.load(open(fname,'rb')) for fname in gmm_files]\n",
        "speakers   = [fname.split(\"/\")[-1].split(\".gmm\")[0] for fname \n",
        "              in gmm_files]\n",
        "print(models)\n",
        "print(speakers)\n",
        "\n",
        "error = 0\n",
        "total_sample = 0.0\n",
        "sr,audio = read(\"record/user2/user25.wav\")\n",
        "vector   = extract_features(audio,sr)\n",
        "\n",
        "log_likelihood = np.zeros(len(models)) \n",
        "\n",
        "for i in range(len(models)):\n",
        "\tgmm    = models[i]  #checking with each model one by one\n",
        "\tscores = np.array(gmm.score(vector))\n",
        "\tlog_likelihood[i] = scores.sum()\n",
        "\n",
        "winner = np.argmax(log_likelihood)\n",
        "print (\"detected as - \", speakers[winner])"
      ],
      "metadata": {
        "id": "nWA-Kdd4y-qK",
        "colab": {
          "base_uri": "https://localhost:8080/"
        },
        "outputId": "22edddde-850d-42f8-eaa1-6f555bea4514"
      },
      "execution_count": null,
      "outputs": [
        {
          "output_type": "stream",
          "name": "stdout",
          "text": [
            "[GaussianMixture(n_components=16, random_state=0)]\n",
            "['user2']\n",
            "detected as -  user2\n"
          ]
        }
      ]
    }
  ]
}